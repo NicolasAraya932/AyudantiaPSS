{
  "nbformat": 4,
  "nbformat_minor": 0,
  "metadata": {
    "colab": {
      "provenance": [],
      "authorship_tag": "ABX9TyOEPicSauCfWzpaMXSBMwF2",
      "include_colab_link": true
    },
    "kernelspec": {
      "name": "python3",
      "display_name": "Python 3"
    },
    "language_info": {
      "name": "python"
    }
  },
  "cells": [
    {
      "cell_type": "markdown",
      "metadata": {
        "id": "view-in-github",
        "colab_type": "text"
      },
      "source": [
        "<a href=\"https://colab.research.google.com/github/NicolasAraya932/AyudantiaPSS/blob/main/Ayudantia%201/Ayudantia1.ipynb\" target=\"_parent\"><img src=\"https://colab.research.google.com/assets/colab-badge.svg\" alt=\"Open In Colab\"/></a>"
      ]
    },
    {
      "cell_type": "markdown",
      "source": [
        "# Ayudantía 1\n",
        "Profesor: Rodrigo Verschae\n",
        "\n",
        "Ayudante: Nicolás Araya P\n",
        "\n",
        "Operaciones binarias con C."
      ],
      "metadata": {
        "id": "x2M79hAQ7U5i"
      }
    },
    {
      "cell_type": "code",
      "execution_count": null,
      "metadata": {
        "id": "sT18Se8N55kf"
      },
      "outputs": [],
      "source": [
        "#@title Pregunta 1\n",
        "%%writefile pregunta1.c\n",
        "\n",
        "#include<stdio.h>\n",
        "#include<stdlib.h>\n",
        "\n",
        "// Pregunta 1\n",
        "int XOR(int n, int m)\n",
        "{\n",
        "    //TODO: COMPLETAR\n",
        "}\n",
        "\n",
        "int main()\n",
        "{\n",
        "    if (XOR(27,31) != 4){\n",
        "        fprintf(stderr,\"Error test 1 XOR\\n\");\n",
        "        exit(1);\n",
        "    }\n",
        "\n",
        "    if (XOR(147,125) != 238){\n",
        "        fprintf(stderr,\"Error test 2 XOR\\n\");\n",
        "        exit(1);\n",
        "    }\n",
        "\n",
        "    printf(\"DONE!!!\");\n",
        "\n",
        "    return 0;\n",
        "\n",
        "}"
      ]
    },
    {
      "cell_type": "code",
      "source": [
        "!gcc pregunta1.c -o pregunta1"
      ],
      "metadata": {
        "id": "15h8baMj7HlO"
      },
      "execution_count": 2,
      "outputs": []
    },
    {
      "cell_type": "code",
      "source": [
        "!./pregunta1"
      ],
      "metadata": {
        "id": "qYUFPTOJ7J0s"
      },
      "execution_count": null,
      "outputs": []
    },
    {
      "cell_type": "code",
      "source": [
        "#@title int_size\n",
        "%%writefile int_size.c\n",
        "\n",
        "int int_size(int n)\n",
        "{\n",
        "    int c = 0;\n",
        "    while(n)\n",
        "    {\n",
        "        n = n >> 1;\n",
        "        c++;\n",
        "    }\n",
        "    return c;\n",
        "}\n"
      ],
      "metadata": {
        "cellView": "form",
        "id": "AkDEek8bnsGj"
      },
      "execution_count": null,
      "outputs": []
    },
    {
      "cell_type": "code",
      "source": [
        "#@title Pregunta 2.1\n",
        "%%writefile pregunta21.c\n",
        "\n",
        "#include <stdio.h>\n",
        "#include <stdlib.h>\n",
        "\n",
        "unsigned int bit_mas_significativo(unsigned int n)\n",
        "{\n",
        "    //TODO: COMPLETAR\n",
        "}\n",
        "\n",
        "int main()\n",
        "{\n",
        "    if (bit_mas_significativo(0) != 0){\n",
        "        fprintf(stderr,\"Error test 1 bit_mas_significativo\\n\");\n",
        "        exit(1);\n",
        "    }\n",
        "    if (bit_mas_significativo(1) != 1){\n",
        "        fprintf(stderr,\"Error test 2 bit_mas_significativo\\n\");\n",
        "        exit(1);\n",
        "    }\n",
        "    if (bit_mas_significativo(12) != 8){\n",
        "        fprintf(stderr,\"Error test 3 bit_mas_significativo\\n\");\n",
        "        exit(1);\n",
        "    }\n",
        "    return 0;\n",
        "}"
      ],
      "metadata": {
        "id": "xOQelbw5oTU-"
      },
      "execution_count": null,
      "outputs": []
    },
    {
      "cell_type": "code",
      "source": [
        "!gcc pregunta21.c -o pregunta21"
      ],
      "metadata": {
        "id": "6NJeo84fqHzU"
      },
      "execution_count": 7,
      "outputs": []
    },
    {
      "cell_type": "code",
      "source": [
        "!./pregunta21"
      ],
      "metadata": {
        "id": "7nSdSxP8qMVP"
      },
      "execution_count": null,
      "outputs": []
    },
    {
      "cell_type": "code",
      "source": [
        "#@title Pregunta 2.2\n",
        "%%writefile pregunta22.c\n",
        "#include <stdio.h>\n",
        "#include <stdlib.h>\n",
        "\n",
        "unsigned int unset1(unsigned int n)\n",
        "{\n",
        "    //TODO: COMPLETAR\n",
        "}\n",
        "\n",
        "int main()\n",
        "{\n",
        "    if (unset1(0) != 0){\n",
        "        fprintf(stderr,\"Error test 1 unset1\\n\");\n",
        "        exit(1);\n",
        "    }\n",
        "    if (unset1(1) != 0){\n",
        "        fprintf(stderr,\"Error test 2 unset1\\n\");\n",
        "        exit(1);\n",
        "    }\n",
        "    if (unset1(12) != 4){\n",
        "        fprintf(stderr,\"Error test 3 unset1\\n\");\n",
        "        exit(1);\n",
        "    }\n",
        "    return 0;\n",
        "}"
      ],
      "metadata": {
        "id": "BPzfgIdgqOMf"
      },
      "execution_count": null,
      "outputs": []
    },
    {
      "cell_type": "code",
      "source": [
        "!gcc pregunta22.c -o pregunta22"
      ],
      "metadata": {
        "id": "7I58mHUlqnu-"
      },
      "execution_count": 10,
      "outputs": []
    },
    {
      "cell_type": "code",
      "source": [
        "!./pregunta22"
      ],
      "metadata": {
        "id": "dW7ONSriqqhB"
      },
      "execution_count": null,
      "outputs": []
    },
    {
      "cell_type": "code",
      "source": [
        "#@title Pregunta 3\n",
        "%%writefile pregunta3.c\n",
        "#include <stdio.h>\n",
        "#include <stdlib.h>\n",
        "\n",
        "unsigned char rotate_right(unsigned char n, unsigned char k)\n",
        "{\n",
        "    //TODO: COMPLETAR\n",
        "}\n",
        "\n",
        "int main()\n",
        "{\n",
        "    if (rotate_right(3,2) != 192){\n",
        "        fprintf(stderr,\"Error test 2 rotate_right\\n\");\n",
        "        exit(1);\n",
        "    }\n",
        "\n",
        "    if (rotate_right(202,12) != 172){\n",
        "        fprintf(stderr,\"Error test 2 rotate_right\\n\");\n",
        "        exit(1);\n",
        "    }\n",
        "    return 0;\n",
        "}"
      ],
      "metadata": {
        "id": "WLZORIMyqy1K"
      },
      "execution_count": null,
      "outputs": []
    },
    {
      "cell_type": "code",
      "source": [
        "!gcc pregunta3.c -o pregunta3"
      ],
      "metadata": {
        "id": "LzSgTxbXrNr-"
      },
      "execution_count": 67,
      "outputs": []
    },
    {
      "cell_type": "code",
      "source": [
        "!./pregunta3"
      ],
      "metadata": {
        "id": "jX5B56sLsP4i"
      },
      "execution_count": null,
      "outputs": []
    },
    {
      "cell_type": "code",
      "source": [
        "#@title Pregunta 4\n",
        "%%writefile pregunta4.c\n",
        "#include <stdio.h>\n",
        "\n",
        "void show_bits(int n)\n",
        "{\n",
        "    //TODO: COMPLETAR\n",
        "}\n",
        "\n",
        "int main()\n",
        "{\n",
        "    show_bits(14);\n",
        "    return 0;\n",
        "}"
      ],
      "metadata": {
        "id": "9NafqsV0wHbv",
        "outputId": "7482f228-fc76-430b-a823-b95180988b7b",
        "colab": {
          "base_uri": "https://localhost:8080/"
        }
      },
      "execution_count": 69,
      "outputs": [
        {
          "output_type": "stream",
          "name": "stdout",
          "text": [
            "Writing pregunta4.c\n"
          ]
        }
      ]
    },
    {
      "cell_type": "code",
      "source": [
        "!gcc pregunta4.c -o pregunta4"
      ],
      "metadata": {
        "id": "bY5p3oYiwiMm"
      },
      "execution_count": null,
      "outputs": []
    },
    {
      "cell_type": "code",
      "source": [
        "!./pregunta4"
      ],
      "metadata": {
        "id": "E1MvpUUUwkWb"
      },
      "execution_count": null,
      "outputs": []
    },
    {
      "cell_type": "code",
      "source": [
        "#@title Pregunta5\n",
        "%%writefile pregunta5.c\n",
        "#include <stdio.h>\n",
        "#include <stdlib.h>\n",
        "\n",
        "int int_size(int n)\n",
        "{\n",
        "    int c = 0;\n",
        "    while(n)\n",
        "    {\n",
        "        n = n >> 1;\n",
        "        c++;\n",
        "    }\n",
        "    return c;\n",
        "}\n",
        "\n",
        "int posicionBits(int bits, int subset_bits, int size_subset)\n",
        "{\n",
        "    //TODO: COMPLETAR\n",
        "}\n",
        "\n",
        "int main()\n",
        "{\n",
        "    if (posicionBits(0b10110, 0b101, 3) != 2){\n",
        "        fprintf(stderr,\"Error test 1 posicion bits\\n\");\n",
        "        exit(1);\n",
        "    }\n",
        "\n",
        "    if (posicionBits(0b10101001001, 0b10101, 5) != 6){\n",
        "        fprintf(stderr,\"Error test 2 posicion bits\\n\");\n",
        "        exit(1);\n",
        "    }\n",
        "\n",
        "    if (posicionBits(0b10110, 0b0, 1) != 0){\n",
        "        fprintf(stderr,\"Error test 3 posicion bits\\n\");\n",
        "        exit(1);\n",
        "    }\n",
        "}"
      ],
      "metadata": {
        "id": "oO8sfDgZwwc2",
        "outputId": "7a7a73da-f9b5-42d5-97d7-113d80a3d511",
        "colab": {
          "base_uri": "https://localhost:8080/"
        }
      },
      "execution_count": 113,
      "outputs": [
        {
          "output_type": "stream",
          "name": "stdout",
          "text": [
            "Overwriting pregunta5.c\n"
          ]
        }
      ]
    },
    {
      "cell_type": "code",
      "source": [
        "!gcc pregunta5.c -o pregunta5"
      ],
      "metadata": {
        "id": "u4F7NSKDxXgU"
      },
      "execution_count": 114,
      "outputs": []
    },
    {
      "cell_type": "code",
      "source": [
        "!./pregunta5"
      ],
      "metadata": {
        "id": "_3Ja4lwNxgm2"
      },
      "execution_count": 115,
      "outputs": []
    }
  ]
}