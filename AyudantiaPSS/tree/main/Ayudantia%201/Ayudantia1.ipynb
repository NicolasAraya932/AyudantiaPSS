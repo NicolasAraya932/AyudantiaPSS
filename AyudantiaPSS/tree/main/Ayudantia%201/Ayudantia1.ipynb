{
  "nbformat": 4,
  "nbformat_minor": 0,
  "metadata": {
    "colab": {
      "provenance": [],
      "authorship_tag": "ABX9TyN4s5s2wIgxdy3jyAACnrrB",
      "include_colab_link": true
    },
    "kernelspec": {
      "name": "python3",
      "display_name": "Python 3"
    },
    "language_info": {
      "name": "python"
    }
  },
  "cells": [
    {
      "cell_type": "markdown",
      "metadata": {
        "id": "view-in-github",
        "colab_type": "text"
      },
      "source": [
        "<a href=\"https://colab.research.google.com/github/NicolasAraya932/AyudantiaPSS/blob/main/AyudantiaPSS/tree/main/Ayudantia%25201/Ayudantia1.ipynb\" target=\"_parent\"><img src=\"https://colab.research.google.com/assets/colab-badge.svg\" alt=\"Open In Colab\"/></a>"
      ]
    },
    {
      "cell_type": "markdown",
      "source": [
        "# Ayudantía 1\n",
        "Profesor: Rodrigo Verschae\n",
        "\n",
        "Ayudante: Nicolás Araya P\n",
        "\n",
        "Operaciones binarias con C."
      ],
      "metadata": {
        "id": "x2M79hAQ7U5i"
      }
    },
    {
      "cell_type": "code",
      "execution_count": 8,
      "metadata": {
        "colab": {
          "base_uri": "https://localhost:8080/"
        },
        "id": "sT18Se8N55kf",
        "outputId": "3a5a6e44-75ff-4c44-e8fb-532b7a0be4c4"
      },
      "outputs": [
        {
          "output_type": "stream",
          "name": "stdout",
          "text": [
            "Overwriting pregunta1.c\n"
          ]
        }
      ],
      "source": [
        "#@title Pregunta 1\n",
        "%%writefile pregunta1.c\n",
        "\n",
        "#include<stdio.h>\n",
        "#include<stdlib.h>\n",
        "\n",
        "// Pregunta 1\n",
        "int XOR(int n, int m)\n",
        "{\n",
        "    //COMPLETAR\n",
        "}\n",
        "\n",
        "int main()\n",
        "{\n",
        "    if (XOR(27,31) != 4){\n",
        "        fprintf(stderr,\"Error test 1 XOR\\n\");\n",
        "        exit(1);\n",
        "    }\n",
        "\n",
        "    if (XOR(147,125) != 238){\n",
        "        fprintf(stderr,\"Error test 2 XOR\\n\");\n",
        "        exit(1);\n",
        "    }\n",
        "\n",
        "    printf(\"DONE!!!\");\n",
        "\n",
        "}"
      ]
    },
    {
      "cell_type": "code",
      "source": [
        "!gcc pregunta1.c -o pregunta1"
      ],
      "metadata": {
        "id": "15h8baMj7HlO"
      },
      "execution_count": 9,
      "outputs": []
    },
    {
      "cell_type": "code",
      "source": [
        "!./pregunta1"
      ],
      "metadata": {
        "colab": {
          "base_uri": "https://localhost:8080/"
        },
        "id": "qYUFPTOJ7J0s",
        "outputId": "5a9bd73a-579e-4c81-9fb2-172f69b3222e"
      },
      "execution_count": 10,
      "outputs": [
        {
          "output_type": "stream",
          "name": "stdout",
          "text": [
            "DONE!!!"
          ]
        }
      ]
    }
  ]
}